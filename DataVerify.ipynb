{
 "cells": [
  {
   "cell_type": "code",
   "execution_count": null,
   "id": "33b41990",
   "metadata": {},
   "outputs": [],
   "source": [
    "import pandas as pd\n",
    "import numpy as np"
   ]
  },
  {
   "cell_type": "code",
   "execution_count": null,
   "id": "121cad89",
   "metadata": {},
   "outputs": [],
   "source": [
    "df = pd.read_csv('simvision_pixel_TDC.csv', skiprows=1) ## Skip first row SimTime = 0"
   ]
  },
  {
   "cell_type": "code",
   "execution_count": null,
   "id": "218de63b",
   "metadata": {},
   "outputs": [],
   "source": [
    "### Original column names\n",
    "### 'SimTime',\n",
    "### 'ETROC2_tb.ETROC2_inst.PixelMatrix_HTree_inst.PixelCol_inst_1.Pixel_inst_2.PixelAnalog_inst.TDC_CAL[9:0]'\n",
    "### 'ETROC2_tb.ETROC2_inst.PixelMatrix_HTree_inst.PixelCol_inst_1.Pixel_inst_2.PixelAnalog_inst.TDC_TOA[9:0]'\n",
    "### 'ETROC2_tb.ETROC2_inst.PixelMatrix_HTree_inst.PixelCol_inst_1.Pixel_inst_2.PixelAnalog_inst.TDC_TOT[8:0]'\n",
    "### 'ETROC2_tb.ETROC2_inst.PixelMatrix_HTree_inst.PixelCol1_inst_14.Pixel1_inst_14.PixelAnalog1_inst.TDC_CAL[9:0]'\n",
    "### 'ETROC2_tb.ETROC2_inst.PixelMatrix_HTree_inst.PixelCol1_inst_14.Pixel1_inst_14.PixelAnalog1_inst.TDC_TOA[9:0]'\n",
    "### 'ETROC2_tb.ETROC2_inst.PixelMatrix_HTree_inst.PixelCol1_inst_14.Pixel1_inst_14.PixelAnalog1_inst.TDC_TOT[8:0]'\n",
    "\n",
    "### Replace column names (only when TDC file has been opened)\n",
    "df.columns = ['SimTime', 'Row1Col2_TDC_CAL', 'Row1Col2_TDC_TOA', 'Row1Col2_TDC_TOT', \n",
    "              'Row14Col14_TDC_CAL', 'Row14Col14_TDC_TOA', 'Row14Col14_TDC_TOT']"
   ]
  },
  {
   "cell_type": "code",
   "execution_count": null,
   "id": "c952a9a0",
   "metadata": {},
   "outputs": [],
   "source": [
    "df.head()"
   ]
  },
  {
   "cell_type": "code",
   "execution_count": null,
   "id": "7a6d751b",
   "metadata": {},
   "outputs": [],
   "source": [
    "### Covert hex to decimal\n",
    "row1col2_cal = df['Row1Col2_TDC_CAL'].squeeze()\n",
    "row1col2_toa = df['Row1Col2_TDC_TOA'].squeeze()\n",
    "b16 = lambda x: int(x, 16)\n",
    "row1col2_cal = row1col2_cal.apply(b16)\n",
    "row1col2_toa = row1col2_toa.apply(b16)"
   ]
  },
  {
   "cell_type": "code",
   "execution_count": null,
   "id": "865e0a7e",
   "metadata": {},
   "outputs": [],
   "source": [
    "### plotting\n",
    "import matplotlib.pyplot as plt\n",
    "%matplotlib inline\n",
    "\n",
    "fig, (ax1, ax2) = plt.subplots(1, 2, figsize=(10, 5))\n",
    "fig.suptitle(\"1st row, 2nd column pixel TDC values\", fontsize=14)\n",
    "ax1.hist(row1col2_cal)\n",
    "ax1.set_xlabel('CAL code', fontsize=12)\n",
    "\n",
    "ax2.scatter(row1col2_toa, df['Row1Col2_TDC_TOT'])\n",
    "ax2.grid()\n",
    "ax2.set_xlabel('TOA code', fontsize=12)\n",
    "ax2.set_ylabel('TOT code', fontsize=12)"
   ]
  },
  {
   "cell_type": "code",
   "execution_count": null,
   "id": "e8da9da5",
   "metadata": {},
   "outputs": [],
   "source": [
    "### Covert hex to decimal\n",
    "row14col14_cal = df['Row14Col14_TDC_CAL'].squeeze()\n",
    "row14col14_toa = df['Row14Col14_TDC_TOA'].squeeze()\n",
    "row14col14_cal = row14col14_cal.apply(b16)\n",
    "row14col14_toa = row14col14_toa.apply(b16)"
   ]
  },
  {
   "cell_type": "code",
   "execution_count": null,
   "id": "68be80e3",
   "metadata": {},
   "outputs": [],
   "source": [
    "### plotting\n",
    "import matplotlib.pyplot as plt\n",
    "%matplotlib inline\n",
    "\n",
    "fig, (ax1, ax2) = plt.subplots(1, 2, figsize=(10, 5))\n",
    "fig.suptitle(\"14th row, 14th column pixel TDC values\", fontsize=14)\n",
    "ax1.hist(row14col14_cal)\n",
    "ax1.set_xlabel('CAL code', fontsize=12)\n",
    "\n",
    "ax2.scatter(row14col14_toa, df['Row14Col14_TDC_TOT'])\n",
    "ax2.grid()\n",
    "ax2.set_xlim(425, 438)\n",
    "ax2.set_xlabel('TOA code', fontsize=12)\n",
    "ax2.set_ylabel('TOT code', fontsize=12)"
   ]
  },
  {
   "cell_type": "code",
   "execution_count": null,
   "id": "6710ee8e",
   "metadata": {},
   "outputs": [],
   "source": [
    "df2 = pd.read_csv('simv ision_fastcmd_data.csv', skiprows=1)"
   ]
  },
  {
   "cell_type": "code",
   "execution_count": null,
   "id": "9df928a8",
   "metadata": {},
   "outputs": [],
   "source": [
    "### Original column names\n",
    "### 'SimTime' \n",
    "### 'ETROC2_tb.FCGenLocal_inst.FastComByte[7:0]'\n",
    "\n",
    "### Replace column names (only when fast command file has been opened)\n",
    "df2.columns = ['SimTime', 'FastComByte']\n",
    "df2.head()"
   ]
  },
  {
   "cell_type": "code",
   "execution_count": null,
   "id": "5bf57cd9",
   "metadata": {},
   "outputs": [],
   "source": [
    "df2['FastComByte']\n",
    "### F0 (1111 0000): Idle\n",
    "### 69 (0110 1001): Charge injection\n",
    "### 5A (0101 1010): BCR (Bunch counter reset at BC0, reset the counter to zero)\n",
    "### 96 (1001 0110): L1A\n",
    "### Reference: https://indico.cern.ch/event/1127562/contributions/4904781/attachments/2454504/4319592/ETROCemulator%20slides20220921.pdf"
   ]
  },
  {
   "cell_type": "code",
   "execution_count": null,
   "id": "77d9cfce",
   "metadata": {
    "scrolled": true
   },
   "outputs": [],
   "source": [
    "### create a list of our conditions\n",
    "conditions = [\n",
    "    (df2['FastComByte'] == 'F0'),\n",
    "    (df2['FastComByte'] == '69'),\n",
    "    (df2['FastComByte'] == '5A'),\n",
    "    (df2['FastComByte'] == '96')\n",
    "    ]\n",
    "\n",
    "### create a list of the values we want to assign for each condition\n",
    "values = ['Idle', 'Charge injection', 'BCR', 'L1A']\n",
    "\n",
    "### create a new column and use np.select to assign values to it using our lists as arguments\n",
    "df2['fcmd_defn'] = np.select(conditions, values)\n",
    "\n",
    "### display updated DataFrame\n",
    "print(df2)"
   ]
  },
  {
   "cell_type": "code",
   "execution_count": null,
   "id": "76cdca1f",
   "metadata": {},
   "outputs": [],
   "source": [
    "df3 = pd.read_csv('simvision.csv', skiprows=1)\n",
    "df3.columns = ['SimTime', 'DOR', 'DOL']\n",
    "df3 = df3.drop(columns=['DOL'])\n",
    "df3 = df3.iloc[:-1 , :] ## drop the last row"
   ]
  },
  {
   "cell_type": "code",
   "execution_count": null,
   "id": "1c214efc",
   "metadata": {},
   "outputs": [],
   "source": [
    "sim = df3.diff(periods=-1).fillna(0)\n",
    "sim['SimTime'] = sim['SimTime'].abs()*0.001\n",
    "sim['nth'] = sim['SimTime']/1560.\n",
    "sim.head(10)"
   ]
  },
  {
   "cell_type": "code",
   "execution_count": null,
   "id": "e2cac2d8",
   "metadata": {
    "scrolled": false
   },
   "outputs": [],
   "source": [
    "df3['diff'] = sim['SimTime'] ## Time difference between (nth, (n+1)th) row, n = 0, 1, 2, ...\n",
    "df3['cycle'] = sim['nth']\n",
    "df3.head(10)"
   ]
  },
  {
   "cell_type": "code",
   "execution_count": null,
   "id": "83d892ee",
   "metadata": {
    "scrolled": false
   },
   "outputs": [],
   "source": [
    "### Repeat rows in a pandas DataFrame based on column value\n",
    "### https://stackoverflow.com/questions/47336704/repeat-rows-in-a-pandas-dataframe-based-on-column-value\n",
    "bit_df = df3.reindex(df3.index.repeat(df3.cycle))\n",
    "bit_df = bit_df.drop(columns=['SimTime', 'diff', 'cycle'])\n",
    "bit_df = bit_df.iloc[20:, :] ## drop the first 20 rows\n",
    "bit_df = bit_df.reset_index(drop=True)\n",
    "bit_df.head(25)"
   ]
  },
  {
   "cell_type": "code",
   "execution_count": null,
   "id": "14ac9efd",
   "metadata": {},
   "outputs": [],
   "source": [
    "### 3C5C pattern recognition\n",
    "### Only check whether the data has 3C5C pattern at anywhere or not\n",
    "### 3 C 5 C (hex)\n",
    "### 0011 1100 0101 1100 (binary)\n",
    "pattern = [0, 0, 1, 1, 1, 0, 1, 0, 0, 0, 1, 1, 1, 1, 0, 0] ## Since raw data bit is reversed!\n",
    "\n",
    "matched = bit_df.rolling(len(pattern)).apply(lambda x: all(np.equal(x, pattern)), raw=True)\n",
    "matched = matched.sum(axis = 1).astype(bool)   #Sum to perform boolean OR\n",
    "idx_matched = np.where(matched)[0]\n",
    "subset = [(match-len(pattern)+1, match+1, match+25) for match in idx_matched]\n",
    "#subset = [range(match-len(pattern)+1, match+1) for match in idx_matched]   \n",
    "#aligned_data = pd.concat([aligned_data.iloc[subs,:] for subs in subset], axis = 0)\n",
    "#aligned_data.reset_index(inplace=True, drop=True)"
   ]
  },
  {
   "cell_type": "code",
   "execution_count": null,
   "id": "a3a950da",
   "metadata": {
    "scrolled": true
   },
   "outputs": [],
   "source": [
    "output = []\n",
    "tmp = 0\n",
    "\n",
    "for subs in subset:\n",
    "    bit16 = bit_df.iloc[range(subs[0], subs[1]), :].values.flatten().tolist()\n",
    "    bit24 = bit_df.iloc[range(subs[1], subs[2]), :].values.flatten().tolist()\n",
    "    if (subs[0]-tmp) != 40:\n",
    "        print(tmp, subs[0])\n",
    "        tmp = subs[0]\n",
    "    bit16.reverse() ## Raw data bit order is reversed!\n",
    "    bit24.reverse() ## Raw data bit order is reversed!\n",
    "    s1 = ''.join([str(x) for x in bit16])\n",
    "    s2 = ''.join([str(x) for x in bit24])\n",
    "    output.append([s1, s2, format(int(s1, 2), 'X'), format(int(s2, 2), 'X')])"
   ]
  },
  {
   "cell_type": "code",
   "execution_count": null,
   "id": "8ca67283",
   "metadata": {},
   "outputs": [],
   "source": [
    "new_df = pd.DataFrame(columns=['bit16', 'bit24', 'bit16_hex', 'bit24_hex'], data=output)\n",
    "new_df.to_csv('result1.csv', index=False)"
   ]
  },
  {
   "cell_type": "code",
   "execution_count": null,
   "id": "6cbfee0d",
   "metadata": {},
   "outputs": [],
   "source": [
    "subset1 = []\n",
    "subset2 = []\n",
    "\n",
    "output = []\n",
    "for i in range(int(bit_df.shape[0]/40)):\n",
    "    x1, x2 = 0+40*i, 16+40*i\n",
    "    y1, y2 = 16+40*i, 40+40*i\n",
    "    bit16 = bit_df.iloc[range(x1, x2), :].values.flatten().tolist()\n",
    "    bit24 = bit_df.iloc[range(y1, y2), :].values.flatten().tolist()\n",
    "    bit16.reverse() ## Raw data bit order is reversed!\n",
    "    bit24.reverse() ## Raw data bit order is reversed!\n",
    "    s1 = ''.join([str(x) for x in bit16])\n",
    "    s2 = ''.join([str(x) for x in bit24])\n",
    "    output.append([s1, s2, format(int(s1, 2), 'X'), format(int(s2, 2), 'X')])\n",
    "    \n",
    "    if i < 10:\n",
    "        print(s1, s2, format(int(s1, 2), 'X'), format(int(s2, 2), 'X'))"
   ]
  },
  {
   "cell_type": "code",
   "execution_count": null,
   "id": "a20bae79",
   "metadata": {},
   "outputs": [],
   "source": [
    "new_df = pd.DataFrame(columns=['bit16', 'bit24', 'bit16_hex', 'bit24_hex'], data=output)\n",
    "new_df.to_csv('result1.csv', index=False)"
   ]
  },
  {
   "cell_type": "code",
   "execution_count": null,
   "id": "ef36beba",
   "metadata": {},
   "outputs": [],
   "source": [
    "### 6AF3 pattern\n",
    "### 6 A F 3\n",
    "### 0110 1010 1111 0011\n",
    "pattern = [1, 1, 0, 0, 1, 1, 1, 1, 0, 1, 0, 1, 0, 1, 1, 0] ## Since raw data bit is reversed!\n",
    "\n",
    "matched = bit_df.rolling(len(pattern)).apply(lambda x: all(np.equal(x, pattern)), raw=True)\n",
    "matched = matched.sum(axis = 1).astype(bool)   #Sum to perform boolean OR\n",
    "idx_matched = np.where(matched)[0]\n",
    "subset = [(match-len(pattern)+1, match+1, match+25) for match in idx_matched]"
   ]
  },
  {
   "cell_type": "code",
   "execution_count": null,
   "id": "686c9db3",
   "metadata": {},
   "outputs": [],
   "source": []
  }
 ],
 "metadata": {
  "kernelspec": {
   "display_name": "Python 3 (ipykernel)",
   "language": "python",
   "name": "python3"
  },
  "language_info": {
   "codemirror_mode": {
    "name": "ipython",
    "version": 3
   },
   "file_extension": ".py",
   "mimetype": "text/x-python",
   "name": "python",
   "nbconvert_exporter": "python",
   "pygments_lexer": "ipython3",
   "version": "3.10.6"
  }
 },
 "nbformat": 4,
 "nbformat_minor": 5
}
