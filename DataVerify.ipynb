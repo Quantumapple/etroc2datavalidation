{
 "cells": [
  {
   "cell_type": "code",
   "execution_count": 4,
   "id": "33b41990",
   "metadata": {},
   "outputs": [],
   "source": [
    "import pandas as pd\n",
    "import numpy as np"
   ]
  },
  {
   "cell_type": "code",
   "execution_count": 2,
   "id": "121cad89",
   "metadata": {},
   "outputs": [],
   "source": [
    "### If want to skip the first row SimTime = 0\n",
    "#cols= ['SimTime', 'ETROC2_tb.DOR', 'ETROC2_tb.DOL']\n",
    "#df = pd.read_csv('simvision.csv', names=cols, skiprows=2)\n",
    "\n",
    "df = pd.read_csv('simvision.csv')"
   ]
  },
  {
   "cell_type": "code",
   "execution_count": 12,
   "id": "218de63b",
   "metadata": {},
   "outputs": [
    {
     "data": {
      "text/plain": [
       "Index(['SimTime', 'ETROC2_tb.DOR', 'ETROC2_tb.DOL'], dtype='object')"
      ]
     },
     "execution_count": 12,
     "metadata": {},
     "output_type": "execute_result"
    }
   ],
   "source": [
    "df.columns"
   ]
  },
  {
   "cell_type": "code",
   "execution_count": 13,
   "id": "5bf57cd9",
   "metadata": {},
   "outputs": [
    {
     "data": {
      "text/plain": [
       "0     0\n",
       "1     1\n",
       "2     0\n",
       "3     1\n",
       "4     0\n",
       "5     1\n",
       "6     0\n",
       "7     1\n",
       "8     0\n",
       "9     1\n",
       "10    0\n",
       "11    1\n",
       "12    0\n",
       "13    1\n",
       "14    0\n",
       "15    1\n",
       "16    0\n",
       "17    1\n",
       "18    0\n",
       "19    1\n",
       "Name: ETROC2_tb.DOR, dtype: int64"
      ]
     },
     "execution_count": 13,
     "metadata": {},
     "output_type": "execute_result"
    }
   ],
   "source": [
    "df['ETROC2_tb.DOR'][:20]"
   ]
  },
  {
   "cell_type": "code",
   "execution_count": 9,
   "id": "d29d0c22",
   "metadata": {
    "scrolled": true
   },
   "outputs": [],
   "source": [
    "### 3C5C pattern recognition\n",
    "### Only check whether the data has 3C5C pattern at anywhere or not\n",
    "### 3 C 5 C (hex)\n",
    "### 0011 1100 0101 1100 (binary)\n",
    "pattern = [0, 0, 1, 1, 1, 1, 0, 0, 0, 1, 0, 1, 1, 1, 0, 0]\n",
    "\n",
    "matched = df.rolling(len(pattern)).apply(lambda x: all(np.equal(x, pattern)), raw=True)\n",
    "matched = matched.sum(axis = 1).astype(bool)   #Sum to perform boolean OR\n",
    "idx_matched = np.where(matched)[0]\n",
    "subset = [range(match-len(pattern)+1, match+1) for match in idx_matched]"
   ]
  },
  {
   "cell_type": "code",
   "execution_count": null,
   "id": "ef36beba",
   "metadata": {},
   "outputs": [],
   "source": [
    "### 6AF3 pattern\n",
    "### 6 A F 3\n",
    "### 0110 1010 1111 0011"
   ]
  }
 ],
 "metadata": {
  "kernelspec": {
   "display_name": "Python 3 (ipykernel)",
   "language": "python",
   "name": "python3"
  },
  "language_info": {
   "codemirror_mode": {
    "name": "ipython",
    "version": 3
   },
   "file_extension": ".py",
   "mimetype": "text/x-python",
   "name": "python",
   "nbconvert_exporter": "python",
   "pygments_lexer": "ipython3",
   "version": "3.10.6"
  }
 },
 "nbformat": 4,
 "nbformat_minor": 5
}
